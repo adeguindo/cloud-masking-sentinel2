{
  "nbformat": 4,
  "nbformat_minor": 0,
  "metadata": {
    "colab": {
      "provenance": [],
      "include_colab_link": true
    },
    "kernelspec": {
      "name": "python3",
      "display_name": "Python 3"
    },
    "language_info": {
      "name": "python"
    }
  },
  "cells": [
    {
      "cell_type": "markdown",
      "metadata": {
        "id": "view-in-github",
        "colab_type": "text"
      },
      "source": [
        "<a href=\"https://colab.research.google.com/github/adeguindo/cloud-masking-sentinel2/blob/master/ECAAS_CommCare_Polygons.ipynb\" target=\"_parent\"><img src=\"https://colab.research.google.com/assets/colab-badge.svg\" alt=\"Open In Colab\"/></a>"
      ]
    },
    {
      "cell_type": "code",
      "execution_count": null,
      "metadata": {
        "id": "K2pt6kpzo7pk"
      },
      "outputs": [],
      "source": [
        "!pip install geopandas"
      ]
    },
    {
      "cell_type": "markdown",
      "source": [
        "Importing the libraries"
      ],
      "metadata": {
        "id": "qcSjKK3opxtk"
      }
    },
    {
      "cell_type": "code",
      "source": [
        "import pandas as pd\n",
        "from ast import literal_eval\n",
        "from shapely import geometry\n",
        "import geopandas as gpd\n",
        "import math\n",
        "import os\n",
        "import pyproj\n",
        "import numpy as np"
      ],
      "metadata": {
        "id": "ilhOc5IwpDJR"
      },
      "execution_count": null,
      "outputs": []
    },
    {
      "cell_type": "markdown",
      "source": [
        "Creating paths to where the datasets will be accessed and stored"
      ],
      "metadata": {
        "id": "OCbmdEqLp3_e"
      }
    },
    {
      "cell_type": "code",
      "source": [
        "data_path = \"drive/My Drive/Kory/ecaas\""
      ],
      "metadata": {
        "id": "7xIhqcv3pF4g"
      },
      "execution_count": null,
      "outputs": []
    },
    {
      "cell_type": "code",
      "source": [
        "df = pd.read_csv(data_path + '/fispthird.csv' )"
      ],
      "metadata": {
        "id": "RN6UxVAQqdsd"
      },
      "execution_count": null,
      "outputs": []
    },
    {
      "cell_type": "markdown",
      "source": [
        "When importing data, some data points will be missing. This code fills this missing gaps with NA"
      ],
      "metadata": {
        "id": "eMI69kBAp-W8"
      }
    },
    {
      "cell_type": "code",
      "source": [
        "df.fillna('None', inplace=True)"
      ],
      "metadata": {
        "id": "KY2hztob6s-Y"
      },
      "execution_count": null,
      "outputs": []
    },
    {
      "cell_type": "code",
      "source": [
        "df.head()"
      ],
      "metadata": {
        "colab": {
          "base_uri": "https://localhost:8080/",
          "height": 461
        },
        "id": "YwIgGNcT2Z1W",
        "outputId": "8832e0ec-2b99-4346-ec9e-c35b920a800a"
      },
      "execution_count": null,
      "outputs": [
        {
          "output_type": "execute_result",
          "data": {
            "text/plain": [
              "                          boxes_case_id boxes_box1_crop_condition  \\\n",
              "0  e761656d-e99e-453d-a52a-5746a368a9b4             below_average   \n",
              "1  4c29d1dc-adca-4f65-9980-cb6ca4aba585             below_average   \n",
              "2  66fb3c19-faf1-4738-b4db-f2296bed97d6                   average   \n",
              "3  c6fa9d2a-8323-4a85-83c9-9ba2eb9da787             below_average   \n",
              "4  b1cab33e-713f-435d-b271-0bf78c9b6821                      good   \n",
              "\n",
              "                        boxes_box1_gps                       boxes_box2_gps  \\\n",
              "0  -11.4455056 28.9770231 1305.85 4.28  -11.4455056 28.9770231 1305.85 4.28   \n",
              "1    -16.2936397 22.0972887 1044.9 4.9    -16.2936397 22.0972887 1044.9 4.9   \n",
              "2    -11.6466034 29.4635679 1182.7 4.8    -11.6466034 29.4635679 1182.7 4.8   \n",
              "3     -15.1520267 26.869465 1082.0 4.7     -15.1520267 26.869465 1082.0 4.7   \n",
              "4     -9.0039483 31.0611267 1450.2 5.0     -9.0039483 31.0611267 1450.2 5.0   \n",
              "\n",
              "   boxes_crop  boxes_expected_harvest_date boxes_intercropping  \\\n",
              "0  groundnuts                        44691                 yes   \n",
              "1       maize                        44696                 yes   \n",
              "2  groundnuts                        44746                  no   \n",
              "3  groundnuts                        44683                  no   \n",
              "4       maize                        44742                  no   \n",
              "\n",
              "           boxes_main_crop_vertex1_gps          boxes_main_crop_vertex2_gps  \\\n",
              "0  -11.4454282 28.9772222 1305.16 8.57  -11.4454201 28.9772197 1304.74 5.09   \n",
              "1   -16.2936583 22.0976417 1043.8 3.96   -16.2927936 22.0980793 1041.9 4.57   \n",
              "2     -11.6465217 29.463595 1192.2 3.9   -11.6465141 29.4635352 1192.09 4.4   \n",
              "3   -15.1517438 26.8695498 1065.59 5.0   -15.1516837 26.8695881 1065.5 4.59   \n",
              "4       -9.00397 31.0610117 1450.2 3.9    -9.0038198 31.0615153 1450.5 4.66   \n",
              "\n",
              "           boxes_main_crop_vertex3_gps          boxes_main_crop_vertex4_gps  \\\n",
              "0  -11.4454212 28.9772238 1303.99 6.43  -11.4454194 28.9772224 1304.13 9.64   \n",
              "1   -16.2937984 22.0992376 1041.3 4.09     -16.2938017 22.09924 1041.3 4.17   \n",
              "2    -11.6465433 29.46353 1192.09 4.09    -11.646551 29.4635482 1192.09 4.0   \n",
              "3    -15.1516553 26.8695982 1065.5 4.8   -15.1509643 26.8698746 1064.4 4.59   \n",
              "4     -9.0039832 31.0615758 1455.1 3.3       -9.004125 31.06161 1455.1 4.59   \n",
              "\n",
              "  boxes_main_crop_vertex5_gps boxes_main_crop_vertex6_gps  \\\n",
              "0                        None                        None   \n",
              "1                        None                        None   \n",
              "2                        None                        None   \n",
              "3                        None                        None   \n",
              "4                        None                        None   \n",
              "\n",
              "   boxes_planting_date   cce_adm1   cce_adm2 compliant  \\\n",
              "0                44539    Milenge    Kabange       Yes   \n",
              "1                44557  Shangombo  Shangombo       Yes   \n",
              "2                44169     Samfya  Mungulube       Yes   \n",
              "3                44171     Mumbwa  Chibuluma       Yes   \n",
              "4                44528   Mpulungu     Vyamba       Yes   \n",
              "\n",
              "   final_dry_kgs_crop_box1  final_dry_kgs_crop_box2  Unnamed: 19  \n",
              "0                    0.455                    0.700     0.650000  \n",
              "1                    0.650                    1.000     0.650000  \n",
              "2                    0.975                    1.500     0.650000  \n",
              "3                    1.570                    2.415     0.650104  \n",
              "4                   22.410                   34.470     0.650131  "
            ],
            "text/html": [
              "\n",
              "  <div id=\"df-1511b593-2820-4e6d-a601-32ae41ea45c7\">\n",
              "    <div class=\"colab-df-container\">\n",
              "      <div>\n",
              "<style scoped>\n",
              "    .dataframe tbody tr th:only-of-type {\n",
              "        vertical-align: middle;\n",
              "    }\n",
              "\n",
              "    .dataframe tbody tr th {\n",
              "        vertical-align: top;\n",
              "    }\n",
              "\n",
              "    .dataframe thead th {\n",
              "        text-align: right;\n",
              "    }\n",
              "</style>\n",
              "<table border=\"1\" class=\"dataframe\">\n",
              "  <thead>\n",
              "    <tr style=\"text-align: right;\">\n",
              "      <th></th>\n",
              "      <th>boxes_case_id</th>\n",
              "      <th>boxes_box1_crop_condition</th>\n",
              "      <th>boxes_box1_gps</th>\n",
              "      <th>boxes_box2_gps</th>\n",
              "      <th>boxes_crop</th>\n",
              "      <th>boxes_expected_harvest_date</th>\n",
              "      <th>boxes_intercropping</th>\n",
              "      <th>boxes_main_crop_vertex1_gps</th>\n",
              "      <th>boxes_main_crop_vertex2_gps</th>\n",
              "      <th>boxes_main_crop_vertex3_gps</th>\n",
              "      <th>boxes_main_crop_vertex4_gps</th>\n",
              "      <th>boxes_main_crop_vertex5_gps</th>\n",
              "      <th>boxes_main_crop_vertex6_gps</th>\n",
              "      <th>boxes_planting_date</th>\n",
              "      <th>cce_adm1</th>\n",
              "      <th>cce_adm2</th>\n",
              "      <th>compliant</th>\n",
              "      <th>final_dry_kgs_crop_box1</th>\n",
              "      <th>final_dry_kgs_crop_box2</th>\n",
              "      <th>Unnamed: 19</th>\n",
              "    </tr>\n",
              "  </thead>\n",
              "  <tbody>\n",
              "    <tr>\n",
              "      <th>0</th>\n",
              "      <td>e761656d-e99e-453d-a52a-5746a368a9b4</td>\n",
              "      <td>below_average</td>\n",
              "      <td>-11.4455056 28.9770231 1305.85 4.28</td>\n",
              "      <td>-11.4455056 28.9770231 1305.85 4.28</td>\n",
              "      <td>groundnuts</td>\n",
              "      <td>44691</td>\n",
              "      <td>yes</td>\n",
              "      <td>-11.4454282 28.9772222 1305.16 8.57</td>\n",
              "      <td>-11.4454201 28.9772197 1304.74 5.09</td>\n",
              "      <td>-11.4454212 28.9772238 1303.99 6.43</td>\n",
              "      <td>-11.4454194 28.9772224 1304.13 9.64</td>\n",
              "      <td>None</td>\n",
              "      <td>None</td>\n",
              "      <td>44539</td>\n",
              "      <td>Milenge</td>\n",
              "      <td>Kabange</td>\n",
              "      <td>Yes</td>\n",
              "      <td>0.455</td>\n",
              "      <td>0.700</td>\n",
              "      <td>0.650000</td>\n",
              "    </tr>\n",
              "    <tr>\n",
              "      <th>1</th>\n",
              "      <td>4c29d1dc-adca-4f65-9980-cb6ca4aba585</td>\n",
              "      <td>below_average</td>\n",
              "      <td>-16.2936397 22.0972887 1044.9 4.9</td>\n",
              "      <td>-16.2936397 22.0972887 1044.9 4.9</td>\n",
              "      <td>maize</td>\n",
              "      <td>44696</td>\n",
              "      <td>yes</td>\n",
              "      <td>-16.2936583 22.0976417 1043.8 3.96</td>\n",
              "      <td>-16.2927936 22.0980793 1041.9 4.57</td>\n",
              "      <td>-16.2937984 22.0992376 1041.3 4.09</td>\n",
              "      <td>-16.2938017 22.09924 1041.3 4.17</td>\n",
              "      <td>None</td>\n",
              "      <td>None</td>\n",
              "      <td>44557</td>\n",
              "      <td>Shangombo</td>\n",
              "      <td>Shangombo</td>\n",
              "      <td>Yes</td>\n",
              "      <td>0.650</td>\n",
              "      <td>1.000</td>\n",
              "      <td>0.650000</td>\n",
              "    </tr>\n",
              "    <tr>\n",
              "      <th>2</th>\n",
              "      <td>66fb3c19-faf1-4738-b4db-f2296bed97d6</td>\n",
              "      <td>average</td>\n",
              "      <td>-11.6466034 29.4635679 1182.7 4.8</td>\n",
              "      <td>-11.6466034 29.4635679 1182.7 4.8</td>\n",
              "      <td>groundnuts</td>\n",
              "      <td>44746</td>\n",
              "      <td>no</td>\n",
              "      <td>-11.6465217 29.463595 1192.2 3.9</td>\n",
              "      <td>-11.6465141 29.4635352 1192.09 4.4</td>\n",
              "      <td>-11.6465433 29.46353 1192.09 4.09</td>\n",
              "      <td>-11.646551 29.4635482 1192.09 4.0</td>\n",
              "      <td>None</td>\n",
              "      <td>None</td>\n",
              "      <td>44169</td>\n",
              "      <td>Samfya</td>\n",
              "      <td>Mungulube</td>\n",
              "      <td>Yes</td>\n",
              "      <td>0.975</td>\n",
              "      <td>1.500</td>\n",
              "      <td>0.650000</td>\n",
              "    </tr>\n",
              "    <tr>\n",
              "      <th>3</th>\n",
              "      <td>c6fa9d2a-8323-4a85-83c9-9ba2eb9da787</td>\n",
              "      <td>below_average</td>\n",
              "      <td>-15.1520267 26.869465 1082.0 4.7</td>\n",
              "      <td>-15.1520267 26.869465 1082.0 4.7</td>\n",
              "      <td>groundnuts</td>\n",
              "      <td>44683</td>\n",
              "      <td>no</td>\n",
              "      <td>-15.1517438 26.8695498 1065.59 5.0</td>\n",
              "      <td>-15.1516837 26.8695881 1065.5 4.59</td>\n",
              "      <td>-15.1516553 26.8695982 1065.5 4.8</td>\n",
              "      <td>-15.1509643 26.8698746 1064.4 4.59</td>\n",
              "      <td>None</td>\n",
              "      <td>None</td>\n",
              "      <td>44171</td>\n",
              "      <td>Mumbwa</td>\n",
              "      <td>Chibuluma</td>\n",
              "      <td>Yes</td>\n",
              "      <td>1.570</td>\n",
              "      <td>2.415</td>\n",
              "      <td>0.650104</td>\n",
              "    </tr>\n",
              "    <tr>\n",
              "      <th>4</th>\n",
              "      <td>b1cab33e-713f-435d-b271-0bf78c9b6821</td>\n",
              "      <td>good</td>\n",
              "      <td>-9.0039483 31.0611267 1450.2 5.0</td>\n",
              "      <td>-9.0039483 31.0611267 1450.2 5.0</td>\n",
              "      <td>maize</td>\n",
              "      <td>44742</td>\n",
              "      <td>no</td>\n",
              "      <td>-9.00397 31.0610117 1450.2 3.9</td>\n",
              "      <td>-9.0038198 31.0615153 1450.5 4.66</td>\n",
              "      <td>-9.0039832 31.0615758 1455.1 3.3</td>\n",
              "      <td>-9.004125 31.06161 1455.1 4.59</td>\n",
              "      <td>None</td>\n",
              "      <td>None</td>\n",
              "      <td>44528</td>\n",
              "      <td>Mpulungu</td>\n",
              "      <td>Vyamba</td>\n",
              "      <td>Yes</td>\n",
              "      <td>22.410</td>\n",
              "      <td>34.470</td>\n",
              "      <td>0.650131</td>\n",
              "    </tr>\n",
              "  </tbody>\n",
              "</table>\n",
              "</div>\n",
              "      <button class=\"colab-df-convert\" onclick=\"convertToInteractive('df-1511b593-2820-4e6d-a601-32ae41ea45c7')\"\n",
              "              title=\"Convert this dataframe to an interactive table.\"\n",
              "              style=\"display:none;\">\n",
              "        \n",
              "  <svg xmlns=\"http://www.w3.org/2000/svg\" height=\"24px\"viewBox=\"0 0 24 24\"\n",
              "       width=\"24px\">\n",
              "    <path d=\"M0 0h24v24H0V0z\" fill=\"none\"/>\n",
              "    <path d=\"M18.56 5.44l.94 2.06.94-2.06 2.06-.94-2.06-.94-.94-2.06-.94 2.06-2.06.94zm-11 1L8.5 8.5l.94-2.06 2.06-.94-2.06-.94L8.5 2.5l-.94 2.06-2.06.94zm10 10l.94 2.06.94-2.06 2.06-.94-2.06-.94-.94-2.06-.94 2.06-2.06.94z\"/><path d=\"M17.41 7.96l-1.37-1.37c-.4-.4-.92-.59-1.43-.59-.52 0-1.04.2-1.43.59L10.3 9.45l-7.72 7.72c-.78.78-.78 2.05 0 2.83L4 21.41c.39.39.9.59 1.41.59.51 0 1.02-.2 1.41-.59l7.78-7.78 2.81-2.81c.8-.78.8-2.07 0-2.86zM5.41 20L4 18.59l7.72-7.72 1.47 1.35L5.41 20z\"/>\n",
              "  </svg>\n",
              "      </button>\n",
              "      \n",
              "  <style>\n",
              "    .colab-df-container {\n",
              "      display:flex;\n",
              "      flex-wrap:wrap;\n",
              "      gap: 12px;\n",
              "    }\n",
              "\n",
              "    .colab-df-convert {\n",
              "      background-color: #E8F0FE;\n",
              "      border: none;\n",
              "      border-radius: 50%;\n",
              "      cursor: pointer;\n",
              "      display: none;\n",
              "      fill: #1967D2;\n",
              "      height: 32px;\n",
              "      padding: 0 0 0 0;\n",
              "      width: 32px;\n",
              "    }\n",
              "\n",
              "    .colab-df-convert:hover {\n",
              "      background-color: #E2EBFA;\n",
              "      box-shadow: 0px 1px 2px rgba(60, 64, 67, 0.3), 0px 1px 3px 1px rgba(60, 64, 67, 0.15);\n",
              "      fill: #174EA6;\n",
              "    }\n",
              "\n",
              "    [theme=dark] .colab-df-convert {\n",
              "      background-color: #3B4455;\n",
              "      fill: #D2E3FC;\n",
              "    }\n",
              "\n",
              "    [theme=dark] .colab-df-convert:hover {\n",
              "      background-color: #434B5C;\n",
              "      box-shadow: 0px 1px 3px 1px rgba(0, 0, 0, 0.15);\n",
              "      filter: drop-shadow(0px 1px 2px rgba(0, 0, 0, 0.3));\n",
              "      fill: #FFFFFF;\n",
              "    }\n",
              "  </style>\n",
              "\n",
              "      <script>\n",
              "        const buttonEl =\n",
              "          document.querySelector('#df-1511b593-2820-4e6d-a601-32ae41ea45c7 button.colab-df-convert');\n",
              "        buttonEl.style.display =\n",
              "          google.colab.kernel.accessAllowed ? 'block' : 'none';\n",
              "\n",
              "        async function convertToInteractive(key) {\n",
              "          const element = document.querySelector('#df-1511b593-2820-4e6d-a601-32ae41ea45c7');\n",
              "          const dataTable =\n",
              "            await google.colab.kernel.invokeFunction('convertToInteractive',\n",
              "                                                     [key], {});\n",
              "          if (!dataTable) return;\n",
              "\n",
              "          const docLinkHtml = 'Like what you see? Visit the ' +\n",
              "            '<a target=\"_blank\" href=https://colab.research.google.com/notebooks/data_table.ipynb>data table notebook</a>'\n",
              "            + ' to learn more about interactive tables.';\n",
              "          element.innerHTML = '';\n",
              "          dataTable['output_type'] = 'display_data';\n",
              "          await google.colab.output.renderOutput(dataTable, element);\n",
              "          const docLink = document.createElement('div');\n",
              "          docLink.innerHTML = docLinkHtml;\n",
              "          element.appendChild(docLink);\n",
              "        }\n",
              "      </script>\n",
              "    </div>\n",
              "  </div>\n",
              "  "
            ]
          },
          "metadata": {},
          "execution_count": 11
        }
      ]
    },
    {
      "cell_type": "markdown",
      "source": [
        "This next code block creates a polygon from the individual coordinate points that were captured from the vertices of the farm. It also creates extra columns that will be used to flag out erroneous polygons.\n",
        "\n",
        "boxes_main_crop_vertex\"X\"_gps - this represents the vertex number. Depends on the number of vertices that the farm has.\n",
        "boxes_box1_gps - Represents the coordinate of the first box\n",
        "boxes_box2_gps - Represents the coordinate of the second box\n",
        "\n",
        "These column names might change according to your naming convention."
      ],
      "metadata": {
        "id": "W7fssqSVq4MM"
      }
    },
    {
      "cell_type": "code",
      "source": [
        "#Creating the new variables for the extra columns that will be created.\n",
        "df1 = df\n",
        "geom = []\n",
        "validity = []\n",
        "area_poly = []\n",
        "box1gps =[]\n",
        "box2gps =[]\n",
        "box1tobox2dist =[]\n",
        "box1toCentdist =[]\n",
        "box2toCentdist = []\n",
        "is_within1 =[]\n",
        "is_within2 =[]\n",
        "\n",
        "for i, row in enumerate(df1.itertuples(), 1):\n",
        "  # print(i)\n",
        "  vertices = []\n",
        "\n",
        "  if row.boxes_main_crop_vertex1_gps != \"None\":\n",
        "    line = row.boxes_main_crop_vertex1_gps.split()\n",
        "    holder = [literal_eval(line[1]),literal_eval(line[0])]\n",
        "    vertices.append(holder)\n",
        "    # print(holder)\n",
        "  if row.boxes_main_crop_vertex2_gps != \"None\":\n",
        "    line = row.boxes_main_crop_vertex2_gps.split()\n",
        "    holder = [literal_eval(line[1]),literal_eval(line[0])]\n",
        "    vertices.append(holder)\n",
        "    # print(holder2)\n",
        "  if row.boxes_main_crop_vertex3_gps != \"None\":\n",
        "    line = row.boxes_main_crop_vertex3_gps.split()\n",
        "    holder = [literal_eval(line[1]),literal_eval(line[0])]\n",
        "    vertices.append(holder)\n",
        "    # print(holder)\n",
        "  if row.boxes_main_crop_vertex4_gps != \"None\":\n",
        "    line = row.boxes_main_crop_vertex4_gps.split()\n",
        "    holder = [literal_eval(line[1]),literal_eval(line[0])]\n",
        "    vertices.append(holder)\n",
        "    #print(holder)\n",
        "    #Vertex 5\n",
        "  if row.boxes_main_crop_vertex5_gps != \"None\":\n",
        "    line = row.boxes_main_crop_vertex5_gps.split()\n",
        "    holder = [literal_eval(line[1]),literal_eval(line[0])]\n",
        "    vertices.append(holder)\n",
        "  #Vertex 6\n",
        "  if row.boxes_main_crop_vertex6_gps != \"None\":\n",
        "    line = row.boxes_main_crop_vertex6_gps.split()\n",
        "    holder = [literal_eval(line[1]),literal_eval(line[0])]\n",
        "    vertices.append(holder)\n",
        "  print(vertices)\n",
        "  #  #Vertex 7\n",
        "  # if row.main_crop_vertex7_gps != \"None\":\n",
        "  #   line = row.main_crop_vertex7_gps.split()\n",
        "  #   holder = [literal_eval(line[1]),literal_eval(line[0])]\n",
        "  #   vertices.append(holder)\n",
        "\n",
        "  if len(vertices) > 0:\n",
        "    vertices.append(vertices[0])\n",
        "    #Create the Polygon using the Shapely package\n",
        "    vertices = geometry.Polygon(vertices)\n",
        "    cen = vertices.centroid\n",
        "    #Checking the validity of the Polygons\n",
        "    validity.append(vertices.is_valid)\n",
        "    geom.append(vertices)\n",
        "\n",
        "  print(vertices)\n",
        "\n",
        "  #Create box1 Point Coordinates\n",
        "  if row.boxes_box1_gps != 'None':\n",
        "    box1 = row.boxes_box1_gps.split()\n",
        "    holder = [literal_eval(box1[1]),literal_eval(box1[0])]\n",
        "    box1Coord = geometry.Point(holder)\n",
        "    box1gps.append(box1Coord)\n",
        "    #print(box1Coord.within(vertices))\n",
        "  else:\n",
        "    box1Coord = (float(\"nan\"))\n",
        "    box1gps.append(box1Coord)\n",
        "\n",
        "   #Create box2 Point Coordinates\n",
        "  if row.boxes_box2_gps != 'None':\n",
        "    box2 = row.boxes_box2_gps.split()\n",
        "    holder = [literal_eval(box2[1]),literal_eval(box2[0])]\n",
        "    box2Coord = geometry.Point(holder)\n",
        "\n",
        "    box2gps.append(box2Coord)\n",
        "  else:\n",
        "    box2Coord = (float(\"nan\"))\n",
        "    box2gps.append(box2Coord)\n",
        "\n",
        "\n",
        "  #Distance between one box and the other\n",
        "  if ((pd.isnull(box2Coord)) or (pd.isnull(box1Coord))):\n",
        "    box1tobox2dist.append((float(\"nan\")))\n",
        "  else:\n",
        "    geod = pyproj.Geod(ellps='WGS84')\n",
        "    angle1,angle2,distance = geod.inv(box1Coord.x, box1Coord.y, box2Coord.x, box2Coord.y)\n",
        "    box1tobox2dist.append(distance)\n",
        "\n",
        "  #box 1 to centroid distance\n",
        "  if (pd.isnull(box1Coord)):\n",
        "    box1toCentdist.append((float(\"nan\")))\n",
        "  else:\n",
        "    angle1,angle2,distance = geod.inv(cen.x, cen.y, box1Coord.x, box1Coord.y)\n",
        "    box1toCentdist.append(distance)\n",
        "\n",
        "  #box 2 to centroid distance\n",
        "  if (pd.isnull(box2Coord)):\n",
        "    box2toCentdist.append((float(\"nan\")))\n",
        "  else:\n",
        "    angle1,angle2,distance = geod.inv(cen.x, cen.y, box2Coord.x, box2Coord.y)\n",
        "    box2toCentdist.append(distance)\n",
        "\n",
        "  #area of the polygon\n",
        "  print(vertices)\n",
        "  area = abs(geod.geometry_area_perimeter(vertices)[0])\n",
        "  area_poly.append(area)\n",
        "\n",
        "#check whether box1 is inisde the polygon\n",
        "  if (pd.isnull(box1Coord)):\n",
        "    is_within1.append((float(\"nan\")))\n",
        "  else:\n",
        "    within = box1Coord.within(vertices)\n",
        "    is_within1.append(within)\n",
        "\n",
        "  #check whether box2 is inisde the polygon\n",
        "  if (pd.isnull(box2Coord)):\n",
        "    is_within2.append((float(\"nan\")))\n",
        "  else:\n",
        "    within = box2Coord.within(vertices)\n",
        "    is_within2.append(within)\n",
        "\n",
        "\n",
        "\n",
        ""
      ],
      "metadata": {
        "id": "w0LuwAHEqaig"
      },
      "execution_count": null,
      "outputs": []
    },
    {
      "cell_type": "code",
      "source": [
        "print(is_within1[0:10])"
      ],
      "metadata": {
        "id": "ky0o2XAHyLoy",
        "colab": {
          "base_uri": "https://localhost:8080/"
        },
        "outputId": "375a521d-d018-47cd-9e3c-1c1071fcc84f"
      },
      "execution_count": null,
      "outputs": [
        {
          "output_type": "stream",
          "name": "stdout",
          "text": [
            "[False, False, False, False, True, False, False, False, False, False]\n"
          ]
        }
      ]
    },
    {
      "cell_type": "code",
      "source": [
        "len(box1gps)\n"
      ],
      "metadata": {
        "colab": {
          "base_uri": "https://localhost:8080/"
        },
        "id": "4K97kbidh6Tx",
        "outputId": "319faccb-3859-4291-c109-fa407bd0f95d"
      },
      "execution_count": null,
      "outputs": [
        {
          "output_type": "execute_result",
          "data": {
            "text/plain": [
              "6999"
            ]
          },
          "metadata": {},
          "execution_count": 23
        }
      ]
    },
    {
      "cell_type": "code",
      "source": [
        "df1['geom'] = geom\n",
        "df1['validity'] = validity\n",
        "df1['area_poly'] = area_poly\n",
        "df1['box1gps'] = box1gps\n",
        "df1['box2gps'] = box2gps\n",
        "df1['box1tobox2dist'] = box1tobox2dist\n",
        "df1['box1toCentdist'] = box1toCentdist\n",
        "df1['box2toCentdist'] = box2toCentdist\n",
        "df1['is_within1'] = is_within1\n",
        "df1['is_within2'] = is_within2\n"
      ],
      "metadata": {
        "id": "ECwet3-yhDBm"
      },
      "execution_count": null,
      "outputs": []
    },
    {
      "cell_type": "code",
      "source": [
        "df1.columns.values"
      ],
      "metadata": {
        "colab": {
          "base_uri": "https://localhost:8080/"
        },
        "id": "-qSjuHlz0ZZ0",
        "outputId": "2ebe9b3b-435b-40dc-bbdb-e6663047328d"
      },
      "execution_count": null,
      "outputs": [
        {
          "output_type": "execute_result",
          "data": {
            "text/plain": [
              "array(['boxes_case_id', 'boxes_box1_crop_condition', 'boxes_box1_gps',\n",
              "       'boxes_box2_gps', 'boxes_crop', 'boxes_expected_harvest_date',\n",
              "       'boxes_intercropping', 'boxes_main_crop_vertex1_gps',\n",
              "       'boxes_main_crop_vertex2_gps', 'boxes_main_crop_vertex3_gps',\n",
              "       'boxes_main_crop_vertex4_gps', 'boxes_main_crop_vertex5_gps',\n",
              "       'boxes_main_crop_vertex6_gps', 'boxes_planting_date', 'cce_adm1',\n",
              "       'cce_adm2', 'compliant', 'final_dry_kgs_crop_box1',\n",
              "       'final_dry_kgs_crop_box2', 'Unnamed: 19', 'geom', 'validity',\n",
              "       'area_poly', 'box1gps', 'box2gps', 'box1tobox2dist',\n",
              "       'box1toCentdist', 'box2toCentdist', 'is_within1', 'is_within2'],\n",
              "      dtype=object)"
            ]
          },
          "metadata": {},
          "execution_count": 16
        }
      ]
    },
    {
      "cell_type": "markdown",
      "source": [
        "This next section represents filtering of the datasets that have just been created. It depends with the thresholds that you will agree for your dataset, that will fairly give you the polygons that represent the true picture of what is on the ground(Accurately editable).\n",
        "\n",
        "Some of the metrics include the distances between the two boxes(Dictated by the CCE(crop cutting experiment) protocal), area of the polygon, whether the boxes' coordinates are within the polygon or somewhere near."
      ],
      "metadata": {
        "id": "A1vbReOdsFUm"
      }
    },
    {
      "cell_type": "code",
      "source": [
        "df2 = df1.loc[ (df1['box1toCentdist'] < 20) & (df1['box2toCentdist'] < 20) & (df1['validity'] == True) & (df1['area_poly']> 50)]"
      ],
      "metadata": {
        "id": "Ay0s8VmfHKXT"
      },
      "execution_count": null,
      "outputs": []
    },
    {
      "cell_type": "markdown",
      "source": [
        "Save the filtered dataset as a CSV format."
      ],
      "metadata": {
        "id": "5-DrpuuIs5a9"
      }
    },
    {
      "cell_type": "code",
      "source": [
        "df2.to_csv(data_path + \"fisp_analyzed.csv\")"
      ],
      "metadata": {
        "id": "JXtBAhkAr5fF"
      },
      "execution_count": null,
      "outputs": []
    },
    {
      "cell_type": "markdown",
      "source": [
        "In this code block section, the dataframe is changed into a geodataframe inorder to look for polygon overlaps"
      ],
      "metadata": {
        "id": "d2F3MdB0s2MS"
      }
    },
    {
      "cell_type": "code",
      "source": [
        "gdf = gpd.GeoDataFrame(df2, geometry = df2.geom)"
      ],
      "metadata": {
        "id": "l0YKnLOC0iga"
      },
      "execution_count": null,
      "outputs": []
    },
    {
      "cell_type": "code",
      "source": [
        "gdf.head()"
      ],
      "metadata": {
        "id": "JGdHsy6R0vS-"
      },
      "execution_count": null,
      "outputs": []
    },
    {
      "cell_type": "code",
      "source": [
        "gdf.to_csv(data_path + \"/data3rd.csv\")"
      ],
      "metadata": {
        "id": "kToPtjir9r5E"
      },
      "execution_count": null,
      "outputs": []
    },
    {
      "cell_type": "code",
      "source": [
        "\n",
        "gdf.to_file(driver = 'ESRI Shapefile', filename=  data_path + \"/myfile.shp\")"
      ],
      "metadata": {
        "id": "fYpGMDgA5_UE"
      },
      "execution_count": null,
      "outputs": []
    },
    {
      "cell_type": "code",
      "source": [
        "gdf.columns.values"
      ],
      "metadata": {
        "id": "iWUkK4iV2rtU"
      },
      "execution_count": null,
      "outputs": []
    },
    {
      "cell_type": "code",
      "source": [
        "ids = []\n",
        "for index, row in gdf.iterrows():\n",
        "\n",
        "  data_temp1=gdf.loc[df.boxes_case_id!=row.boxes_case_id]\n",
        "    # check if intersection occured\n",
        "  # print(data_temp1)\n",
        "  overlaps=data_temp1[data_temp1.geometry.overlaps(row.geometry)]['boxes_case_id'].tolist()\n",
        "\n",
        "  if len(overlaps)>0:\n",
        "      ids.append(overlaps)\n",
        "      print(overlaps)\n",
        "      temp_list=[]"
      ],
      "metadata": {
        "id": "GcrfPb-NfOhu"
      },
      "execution_count": null,
      "outputs": []
    },
    {
      "cell_type": "code",
      "source": [
        "\n",
        "arr = np.array(ids)"
      ],
      "metadata": {
        "colab": {
          "base_uri": "https://localhost:8080/"
        },
        "id": "G8QK3cPW5s8s",
        "outputId": "543c08ce-935b-4fcc-c3c8-efc8f88a82f1"
      },
      "execution_count": null,
      "outputs": [
        {
          "output_type": "stream",
          "name": "stderr",
          "text": [
            "/usr/local/lib/python3.7/dist-packages/ipykernel_launcher.py:2: VisibleDeprecationWarning: Creating an ndarray from ragged nested sequences (which is a list-or-tuple of lists-or-tuples-or ndarrays with different lengths or shapes) is deprecated. If you meant to do this, you must specify 'dtype=object' when creating the ndarray.\n",
            "  \n"
          ]
        }
      ]
    },
    {
      "cell_type": "code",
      "source": [
        "# convert array into dataframe\n",
        "DF = pd.DataFrame(arr)\n",
        "\n",
        "# save the dataframe as a csv file(This file will contain the overlaps)\n",
        "DF.to_csv(os.path.join(data_path,\"data3.csv\"))"
      ],
      "metadata": {
        "id": "SrIdh4Vc5xSf"
      },
      "execution_count": null,
      "outputs": []
    }
  ]
}